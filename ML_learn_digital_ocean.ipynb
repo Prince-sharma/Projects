{
  "nbformat": 4,
  "nbformat_minor": 0,
  "metadata": {
    "colab": {
      "name": "ML_learn_digital_ocean.ipynb",
      "version": "0.3.2",
      "provenance": [],
      "include_colab_link": true
    },
    "kernelspec": {
      "name": "python3",
      "display_name": "Python 3"
    }
  },
  "cells": [
    {
      "cell_type": "markdown",
      "metadata": {
        "id": "view-in-github",
        "colab_type": "text"
      },
      "source": [
        "<a href=\"https://colab.research.google.com/github/Prince-sharma/Projects/blob/master/ML_learn_digital_ocean.ipynb\" target=\"_parent\"><img src=\"https://colab.research.google.com/assets/colab-badge.svg\" alt=\"Open In Colab\"/></a>"
      ]
    },
    {
      "cell_type": "code",
      "metadata": {
        "id": "mJFr-rHWxCzu",
        "colab_type": "code",
        "colab": {
          "base_uri": "https://localhost:8080/",
          "height": 68
        },
        "outputId": "bda842f8-af6d-4f71-87d7-1286de8a84c8"
      },
      "source": [
        "!pip\tinstall\tscikit-learn[alldeps]"
      ],
      "execution_count": 2,
      "outputs": [
        {
          "output_type": "stream",
          "text": [
            "Requirement already satisfied: scikit-learn[alldeps] in /usr/local/lib/python3.6/dist-packages (0.20.3)\n",
            "Requirement already satisfied: scipy>=0.13.3 in /usr/local/lib/python3.6/dist-packages (from scikit-learn[alldeps]) (1.2.1)\n",
            "Requirement already satisfied: numpy>=1.8.2 in /usr/local/lib/python3.6/dist-packages (from scikit-learn[alldeps]) (1.16.3)\n"
          ],
          "name": "stdout"
        }
      ]
    },
    {
      "cell_type": "code",
      "metadata": {
        "id": "T98IVjgQ3hkX",
        "colab_type": "code",
        "colab": {}
      },
      "source": [
        "import sklearn"
      ],
      "execution_count": 0,
      "outputs": []
    },
    {
      "cell_type": "code",
      "metadata": {
        "id": "kqmuBTwD3rGm",
        "colab_type": "code",
        "colab": {}
      },
      "source": [
        "from\tsklearn.datasets\timport\tload_breast_cancer"
      ],
      "execution_count": 0,
      "outputs": []
    },
    {
      "cell_type": "markdown",
      "metadata": {
        "id": "d5jCCdR94RNG",
        "colab_type": "text"
      },
      "source": [
        "# Load Dataset"
      ]
    },
    {
      "cell_type": "code",
      "metadata": {
        "id": "FyoimPoR4JfI",
        "colab_type": "code",
        "colab": {}
      },
      "source": [
        "data\t=\tload_breast_cancer()"
      ],
      "execution_count": 0,
      "outputs": []
    },
    {
      "cell_type": "markdown",
      "metadata": {
        "id": "UIKTJHEA5FXz",
        "colab_type": "text"
      },
      "source": [
        "# Organising the data"
      ]
    },
    {
      "cell_type": "code",
      "metadata": {
        "id": "ttMDZnPL4MTB",
        "colab_type": "code",
        "colab": {}
      },
      "source": [
        "label_names\t=\tdata['target_names']"
      ],
      "execution_count": 0,
      "outputs": []
    },
    {
      "cell_type": "code",
      "metadata": {
        "id": "MN0jcLZ54x1Z",
        "colab_type": "code",
        "colab": {}
      },
      "source": [
        "labels\t=\tdata['target']"
      ],
      "execution_count": 0,
      "outputs": []
    },
    {
      "cell_type": "code",
      "metadata": {
        "id": "fImE6OFy5SV0",
        "colab_type": "code",
        "colab": {}
      },
      "source": [
        "feature_names\t=\tdata['feature_names']"
      ],
      "execution_count": 0,
      "outputs": []
    },
    {
      "cell_type": "code",
      "metadata": {
        "id": "FO78l7D85UsQ",
        "colab_type": "code",
        "colab": {}
      },
      "source": [
        "features\t=\tdata['data']"
      ],
      "execution_count": 0,
      "outputs": []
    },
    {
      "cell_type": "markdown",
      "metadata": {
        "id": "Bza5hQEx5l0c",
        "colab_type": "text"
      },
      "source": [
        "## Look at our data"
      ]
    },
    {
      "cell_type": "code",
      "metadata": {
        "id": "AvSbbVXY5agY",
        "colab_type": "code",
        "colab": {
          "base_uri": "https://localhost:8080/",
          "height": 34
        },
        "outputId": "a0af0c35-1046-4707-c7d4-17cb0e62c3b7"
      },
      "source": [
        "print(label_names)"
      ],
      "execution_count": 10,
      "outputs": [
        {
          "output_type": "stream",
          "text": [
            "['malignant' 'benign']\n"
          ],
          "name": "stdout"
        }
      ]
    },
    {
      "cell_type": "code",
      "metadata": {
        "id": "rJsgwao45eBf",
        "colab_type": "code",
        "colab": {
          "base_uri": "https://localhost:8080/",
          "height": 34
        },
        "outputId": "b06b4bab-b235-4baa-f475-4531f0d8c69f"
      },
      "source": [
        "print(labels[0])"
      ],
      "execution_count": 11,
      "outputs": [
        {
          "output_type": "stream",
          "text": [
            "0\n"
          ],
          "name": "stdout"
        }
      ]
    },
    {
      "cell_type": "code",
      "metadata": {
        "id": "sLBJ2Prd5tqL",
        "colab_type": "code",
        "colab": {
          "base_uri": "https://localhost:8080/",
          "height": 34
        },
        "outputId": "ac2222c5-1f2a-4c4f-ee03-d9571c9883f2"
      },
      "source": [
        "print(feature_names[0])"
      ],
      "execution_count": 12,
      "outputs": [
        {
          "output_type": "stream",
          "text": [
            "mean radius\n"
          ],
          "name": "stdout"
        }
      ]
    },
    {
      "cell_type": "code",
      "metadata": {
        "id": "zb9AXtDD5wM9",
        "colab_type": "code",
        "colab": {
          "base_uri": "https://localhost:8080/",
          "height": 102
        },
        "outputId": "bbdb991a-a626-4926-ed9f-3209417e1a2b"
      },
      "source": [
        "print(features[0])"
      ],
      "execution_count": 13,
      "outputs": [
        {
          "output_type": "stream",
          "text": [
            "[1.799e+01 1.038e+01 1.228e+02 1.001e+03 1.184e-01 2.776e-01 3.001e-01\n",
            " 1.471e-01 2.419e-01 7.871e-02 1.095e+00 9.053e-01 8.589e+00 1.534e+02\n",
            " 6.399e-03 4.904e-02 5.373e-02 1.587e-02 3.003e-02 6.193e-03 2.538e+01\n",
            " 1.733e+01 1.846e+02 2.019e+03 1.622e-01 6.656e-01 7.119e-01 2.654e-01\n",
            " 4.601e-01 1.189e-01]\n"
          ],
          "name": "stdout"
        }
      ]
    },
    {
      "cell_type": "code",
      "metadata": {
        "id": "ffeWUQLn5y5K",
        "colab_type": "code",
        "colab": {}
      },
      "source": [
        "from\tsklearn.model_selection\timport\ttrain_test_split"
      ],
      "execution_count": 0,
      "outputs": []
    },
    {
      "cell_type": "markdown",
      "metadata": {
        "id": "MBcwcZ5H6PMM",
        "colab_type": "text"
      },
      "source": [
        "#\tSplit\tour\tdata"
      ]
    },
    {
      "cell_type": "code",
      "metadata": {
        "id": "yB3T7ju-6Oei",
        "colab_type": "code",
        "colab": {}
      },
      "source": [
        "train,\ttest,\ttrain_labels,\ttest_labels\t=\ttrain_test_split(features,\n",
        "labels,test_size=0.33,\n",
        "random_state=42)"
      ],
      "execution_count": 0,
      "outputs": []
    },
    {
      "cell_type": "code",
      "metadata": {
        "id": "Yg_SeTN4E49F",
        "colab_type": "code",
        "colab": {}
      },
      "source": [
        "from\tsklearn.naive_bayes\timport\tGaussianNB"
      ],
      "execution_count": 0,
      "outputs": []
    },
    {
      "cell_type": "markdown",
      "metadata": {
        "id": "3JNHP9b8HYw_",
        "colab_type": "text"
      },
      "source": [
        "#\tInitialize\tour\tclassifier"
      ]
    },
    {
      "cell_type": "code",
      "metadata": {
        "id": "9w2v3zKEHWdI",
        "colab_type": "code",
        "colab": {}
      },
      "source": [
        "gnb\t=\tGaussianNB()"
      ],
      "execution_count": 0,
      "outputs": []
    },
    {
      "cell_type": "markdown",
      "metadata": {
        "id": "MpBmFLcMHgPB",
        "colab_type": "text"
      },
      "source": [
        "#\tTrain\tour\tclassifier"
      ]
    },
    {
      "cell_type": "code",
      "metadata": {
        "id": "_jU38cR-Ha0Q",
        "colab_type": "code",
        "colab": {}
      },
      "source": [
        "model\t=\tgnb.fit(train,\ttrain_labels)"
      ],
      "execution_count": 0,
      "outputs": []
    },
    {
      "cell_type": "markdown",
      "metadata": {
        "id": "59wcWrNYIKcl",
        "colab_type": "text"
      },
      "source": [
        "#\tMake\tpredictions"
      ]
    },
    {
      "cell_type": "code",
      "metadata": {
        "id": "3Fp1iO3uHi67",
        "colab_type": "code",
        "colab": {}
      },
      "source": [
        "preds\t=\tgnb.predict(test)"
      ],
      "execution_count": 0,
      "outputs": []
    },
    {
      "cell_type": "code",
      "metadata": {
        "id": "D7cnWHn1INbv",
        "colab_type": "code",
        "colab": {
          "base_uri": "https://localhost:8080/",
          "height": 119
        },
        "outputId": "c1647cf2-63e0-4e33-be57-f459feff10a0"
      },
      "source": [
        "print(preds)"
      ],
      "execution_count": 21,
      "outputs": [
        {
          "output_type": "stream",
          "text": [
            "[1 0 0 1 1 0 0 0 1 1 1 0 1 0 1 0 1 1 1 0 1 1 0 1 1 1 1 1 1 0 1 1 1 1 1 1 0\n",
            " 1 0 1 1 0 1 1 1 1 1 1 1 1 0 0 1 1 1 1 1 0 0 1 1 0 0 1 1 1 0 0 1 1 0 0 1 0\n",
            " 1 1 1 1 1 1 0 1 1 0 0 0 0 0 1 1 1 1 1 1 1 1 0 0 1 0 0 1 0 0 1 1 1 0 1 1 0\n",
            " 1 1 0 0 0 1 1 1 0 0 1 1 0 1 0 0 1 1 0 0 0 1 1 1 0 1 1 0 0 1 0 1 1 0 1 0 0\n",
            " 1 1 1 1 1 1 1 0 0 1 1 1 1 1 1 1 1 1 1 1 1 0 0 1 1 0 1 1 0 1 1 1 1 1 1 0 0\n",
            " 0 1 1]\n"
          ],
          "name": "stdout"
        }
      ]
    },
    {
      "cell_type": "code",
      "metadata": {
        "id": "HgV0Uc_BIQAa",
        "colab_type": "code",
        "colab": {}
      },
      "source": [
        "from\tsklearn.metrics\timport\taccuracy_score"
      ],
      "execution_count": 0,
      "outputs": []
    },
    {
      "cell_type": "markdown",
      "metadata": {
        "id": "IkGTvE7vJAUc",
        "colab_type": "text"
      },
      "source": [
        "#\tEvaluate\taccuracy"
      ]
    },
    {
      "cell_type": "code",
      "metadata": {
        "id": "ZcqorD-RI9jg",
        "colab_type": "code",
        "colab": {
          "base_uri": "https://localhost:8080/",
          "height": 34
        },
        "outputId": "b6d0d330-b7a5-4ea8-ed48-74bc5faa3ba4"
      },
      "source": [
        "print(accuracy_score(test_labels,\tpreds))\n"
      ],
      "execution_count": 23,
      "outputs": [
        {
          "output_type": "stream",
          "text": [
            "0.9414893617021277\n"
          ],
          "name": "stdout"
        }
      ]
    },
    {
      "cell_type": "code",
      "metadata": {
        "id": "3HFIs75xJFel",
        "colab_type": "code",
        "colab": {}
      },
      "source": [
        ""
      ],
      "execution_count": 0,
      "outputs": []
    }
  ]
}